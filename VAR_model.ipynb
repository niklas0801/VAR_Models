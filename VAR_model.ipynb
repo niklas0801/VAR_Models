{
 "cells": [
  {
   "cell_type": "markdown",
   "metadata": {},
   "source": [
    "# VAR-Model for money supply M2, inflation rate and gdp in the US"
   ]
  },
  {
   "cell_type": "markdown",
   "metadata": {},
   "source": [
    "### Importing the relevant libraries"
   ]
  },
  {
   "cell_type": "code",
   "execution_count": 263,
   "metadata": {},
   "outputs": [],
   "source": [
    "import pandas as pd\n",
    "import numpy as np\n",
    "from statsmodels.tsa.api import VAR\n",
    "import statsmodels.api as sm\n",
    "import matplotlib.pyplot as plt\n",
    "import matplotlib.dates as mdates\n",
    "from statsmodels.tsa.stattools import adfuller\n",
    "from statsmodels.tsa.ar_model import AutoReg\n",
    "from statsmodels.graphics.tsaplots import plot_acf, plot_pacf"
   ]
  },
  {
   "cell_type": "markdown",
   "metadata": {},
   "source": [
    "### Importing the relevant datasets"
   ]
  },
  {
   "cell_type": "code",
   "execution_count": 264,
   "metadata": {},
   "outputs": [],
   "source": [
    "money = pd.read_csv(\"M2SL.csv\") # money supply M2 in billion US-dollars\n",
    "\n",
    "gdp = pd.read_csv(\"GDP.csv\") # US GDP per capita\n",
    "\n",
    "inflation = pd.read_csv(\"inflation.csv\") # Consumer Price Index for All Urban Consumers: All Items in U.S. City Average (1982-1984 = 100)"
   ]
  },
  {
   "cell_type": "markdown",
   "metadata": {},
   "source": [
    "### Cleaning the datasets"
   ]
  },
  {
   "cell_type": "code",
   "execution_count": 265,
   "metadata": {},
   "outputs": [],
   "source": [
    "# Changing columns names\n",
    "\n",
    "money = money.rename(columns={\"DATE\": \"date\", \"M2SL\": \"M2\"}).copy()\n",
    "\n",
    "inflation = inflation.rename(columns={\"DATE\": \"date\", \"CPIAUCSL\": \"inflation\"}).copy()\n",
    "\n",
    "gdp = gdp.rename(columns={\"DATE\": \"date\", \"GDP\": \"gdp\"}).copy()"
   ]
  },
  {
   "cell_type": "code",
   "execution_count": 266,
   "metadata": {},
   "outputs": [],
   "source": [
    "# Changing the date-column to datetime-format\n",
    "\n",
    "money[\"date\"] = pd.to_datetime(money[\"date\"]).copy()\n",
    "\n",
    "gdp[\"date\"] = pd.to_datetime(gdp[\"date\"]).copy()\n",
    "\n",
    "inflation[\"date\"] = pd.to_datetime(inflation[\"date\"]).copy()"
   ]
  },
  {
   "cell_type": "markdown",
   "metadata": {},
   "source": [
    "### Setting all datasets to the same frequency and time-span"
   ]
  },
  {
   "cell_type": "code",
   "execution_count": 267,
   "metadata": {},
   "outputs": [],
   "source": [
    "money_min = money[\"date\"].min()\n",
    "money_max = money[\"date\"].max()\n",
    "\n",
    "gdp_min = gdp[\"date\"].min()\n",
    "gdp_max = gdp[\"date\"].max()\n",
    "\n",
    "inflation_min = inflation[\"date\"].min()\n",
    "inflation_max = inflation[\"date\"].max()"
   ]
  },
  {
   "cell_type": "code",
   "execution_count": 268,
   "metadata": {},
   "outputs": [],
   "source": [
    "df_min = pd.DataFrame({\"min\": [money_min, gdp_min, inflation_min]},\n",
    "                      index = [\"money_min\", \"gdp_min\", \"inflation_min\"])\n",
    "\n",
    "df_max = pd.DataFrame({\"max\": [money_max, gdp_max, inflation_max]},\n",
    "                      index = [\"money_max\", \"gdp_max\", \"inflation_max\"])"
   ]
  },
  {
   "cell_type": "code",
   "execution_count": 269,
   "metadata": {},
   "outputs": [
    {
     "data": {
      "text/plain": [
       "Timestamp('1959-01-01 00:00:00')"
      ]
     },
     "execution_count": 269,
     "metadata": {},
     "output_type": "execute_result"
    }
   ],
   "source": [
    "df_min[\"min\"].max() # 1960-01-01 will be our threshold on the bottom"
   ]
  },
  {
   "cell_type": "code",
   "execution_count": 270,
   "metadata": {},
   "outputs": [
    {
     "data": {
      "text/plain": [
       "Timestamp('2024-04-01 00:00:00')"
      ]
     },
     "execution_count": 270,
     "metadata": {},
     "output_type": "execute_result"
    }
   ],
   "source": [
    "df_max[\"max\"].min() # 2023-01-01 will be our threshold on top"
   ]
  },
  {
   "cell_type": "code",
   "execution_count": 271,
   "metadata": {},
   "outputs": [],
   "source": [
    "# Deleting all rows above or below our thresholds\n",
    "\n",
    "money = money.iloc[:784].copy()\n",
    "\n",
    "inflation = inflation[144:928].copy()\n",
    "inflation.reset_index(inplace=True)\n",
    "\n",
    "gdp = gdp.iloc[48:].copy()\n",
    "gdp.reset_index(inplace=True)"
   ]
  },
  {
   "cell_type": "code",
   "execution_count": 272,
   "metadata": {},
   "outputs": [],
   "source": [
    "inflation.drop(columns=[\"index\"], inplace=True)\n",
    "gdp.drop(columns=[\"index\"], inplace=True)"
   ]
  },
  {
   "cell_type": "code",
   "execution_count": 273,
   "metadata": {},
   "outputs": [],
   "source": [
    "# Deleting the rows, so that every time-series has the same frequency\n",
    "\n",
    "money = money.iloc[::3].copy()\n",
    "inflation = inflation[::3].copy()"
   ]
  },
  {
   "cell_type": "code",
   "execution_count": 274,
   "metadata": {},
   "outputs": [],
   "source": [
    "# Setting the date as index-column\n",
    "\n",
    "money = money.set_index(\"date\").copy()\n",
    "\n",
    "gdp = gdp.set_index(\"date\").copy()\n",
    "\n",
    "inflation = inflation.set_index(\"date\").copy()"
   ]
  }
 ],
 "metadata": {
  "kernelspec": {
   "display_name": "Python 3",
   "language": "python",
   "name": "python3"
  },
  "language_info": {
   "codemirror_mode": {
    "name": "ipython",
    "version": 3
   },
   "file_extension": ".py",
   "mimetype": "text/x-python",
   "name": "python",
   "nbconvert_exporter": "python",
   "pygments_lexer": "ipython3",
   "version": "3.12.0"
  }
 },
 "nbformat": 4,
 "nbformat_minor": 2
}
