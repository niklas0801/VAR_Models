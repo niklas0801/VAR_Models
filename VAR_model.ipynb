{
 "cells": [
  {
   "cell_type": "markdown",
   "metadata": {},
   "source": [
    "# VAR-Model for money supply M2, inflation rate and gdp in the US"
   ]
  },
  {
   "cell_type": "markdown",
   "metadata": {},
   "source": [
    "### Importing the relevant libraries"
   ]
  },
  {
   "cell_type": "code",
   "execution_count": 124,
   "metadata": {},
   "outputs": [],
   "source": [
    "import pandas as pd\n",
    "import numpy as np\n",
    "from statsmodels.tsa.api import VAR\n",
    "import statsmodels.api as sm\n",
    "import matplotlib.pyplot as plt\n",
    "import matplotlib.dates as mdates\n",
    "from statsmodels.tsa.stattools import adfuller\n",
    "from statsmodels.tsa.ar_model import AutoReg\n",
    "from statsmodels.graphics.tsaplots import plot_acf, plot_pacf"
   ]
  },
  {
   "cell_type": "markdown",
   "metadata": {},
   "source": [
    "### Importing the relevant datasets"
   ]
  },
  {
   "cell_type": "code",
   "execution_count": 125,
   "metadata": {},
   "outputs": [],
   "source": [
    "money = pd.read_csv(\"M2SL.csv\")\n",
    "\n",
    "gdp = pd.read_csv(\"GDP.csv\")\n",
    "\n",
    "inflation = pd.read_csv(\"inflation.csv\")"
   ]
  },
  {
   "cell_type": "markdown",
   "metadata": {},
   "source": [
    "### Cleaning the datasets"
   ]
  },
  {
   "cell_type": "code",
   "execution_count": 126,
   "metadata": {},
   "outputs": [],
   "source": [
    "# Changing columns names\n",
    "\n",
    "money = money.rename(columns={\"DATE\": \"date\", \"M2SL\": \"M2\"}).copy()\n",
    "\n",
    "inflation = inflation.rename(columns={\"DATE\": \"date\", \"FPCPITOTLZGUSA\": \"inflation\"}).copy()\n",
    "\n",
    "gdp = gdp.rename(columns={\"DATE\": \"date\", \"GDP\": \"gdp\"}).copy()"
   ]
  },
  {
   "cell_type": "code",
   "execution_count": 127,
   "metadata": {},
   "outputs": [],
   "source": [
    "# Changing the date-column to datetime-format\n",
    "\n",
    "money[\"date\"] = pd.to_datetime(money[\"date\"]).copy()\n",
    "\n",
    "gdp[\"date\"] = pd.to_datetime(gdp[\"date\"]).copy()\n",
    "\n",
    "inflation[\"date\"] = pd.to_datetime(inflation[\"date\"]).copy()"
   ]
  },
  {
   "cell_type": "markdown",
   "metadata": {},
   "source": [
    "### Setting all datasets to the same frequency and time-span"
   ]
  },
  {
   "cell_type": "code",
   "execution_count": 128,
   "metadata": {},
   "outputs": [],
   "source": [
    "money_min = money[\"date\"].min()\n",
    "money_max = money[\"date\"].max()\n",
    "\n",
    "gdp_min = gdp[\"date\"].min()\n",
    "gdp_max = gdp[\"date\"].max()\n",
    "\n",
    "inflation_min = inflation[\"date\"].min()\n",
    "inflation_max = inflation[\"date\"].max()"
   ]
  },
  {
   "cell_type": "code",
   "execution_count": 129,
   "metadata": {},
   "outputs": [],
   "source": [
    "df_min = pd.DataFrame({\"min\": [money_min, gdp_min, inflation_min]},\n",
    "                      index = [\"money_min\", \"gdp_min\", \"inflation_min\"])\n",
    "\n",
    "df_max = pd.DataFrame({\"max\": [money_max, gdp_max, inflation_max]},\n",
    "                      index = [\"money_max\", \"gdp_max\", \"inflation_max\"])"
   ]
  },
  {
   "cell_type": "code",
   "execution_count": 130,
   "metadata": {},
   "outputs": [
    {
     "data": {
      "text/plain": [
       "Timestamp('1959-01-01 00:00:00')"
      ]
     },
     "execution_count": 130,
     "metadata": {},
     "output_type": "execute_result"
    }
   ],
   "source": [
    "df_min[\"min\"].max() # 1960-01-01 will be our threshold on the bottom"
   ]
  },
  {
   "cell_type": "code",
   "execution_count": 131,
   "metadata": {},
   "outputs": [
    {
     "data": {
      "text/plain": [
       "Timestamp('2024-04-01 00:00:00')"
      ]
     },
     "execution_count": 131,
     "metadata": {},
     "output_type": "execute_result"
    }
   ],
   "source": [
    "df_max[\"max\"].min() # 2023-01-01 will be our threshold on top"
   ]
  },
  {
   "cell_type": "code",
   "execution_count": 132,
   "metadata": {},
   "outputs": [],
   "source": [
    "# Deleting all rows above or below our thresholds\n",
    "\n",
    "money = money.iloc[12:784].copy()\n",
    "\n",
    "inflation = inflation[144:928].copy()\n",
    "\n",
    "gdp = gdp.iloc[48:].copy()"
   ]
  },
  {
   "cell_type": "code",
   "execution_count": 133,
   "metadata": {},
   "outputs": [],
   "source": [
    "# Deleting the rows, so that every time-series has the same frequency\n",
    "\n"
   ]
  },
  {
   "cell_type": "code",
   "execution_count": 134,
   "metadata": {},
   "outputs": [],
   "source": [
    "# Setting the date as index-column\n",
    "\n",
    "#money = money.set_index(\"date\").copy()\n",
    "\n",
    "#gdp = gdp.set_index(\"date\").copy()\n",
    "\n",
    "#inflation = inflation.set_index(\"date\").copy()"
   ]
  }
 ],
 "metadata": {
  "kernelspec": {
   "display_name": "Python 3",
   "language": "python",
   "name": "python3"
  },
  "language_info": {
   "codemirror_mode": {
    "name": "ipython",
    "version": 3
   },
   "file_extension": ".py",
   "mimetype": "text/x-python",
   "name": "python",
   "nbconvert_exporter": "python",
   "pygments_lexer": "ipython3",
   "version": "3.12.0"
  }
 },
 "nbformat": 4,
 "nbformat_minor": 2
}
