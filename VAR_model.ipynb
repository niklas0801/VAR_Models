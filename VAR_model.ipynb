{
 "cells": [
  {
   "cell_type": "markdown",
   "metadata": {},
   "source": [
    "# VAR-Model for money supply M2, inflation rate and gdp in the US"
   ]
  },
  {
   "cell_type": "markdown",
   "metadata": {},
   "source": [
    "### Importing the relevant libraries"
   ]
  },
  {
   "cell_type": "code",
   "execution_count": 6,
   "metadata": {},
   "outputs": [],
   "source": [
    "import pandas as pd\n",
    "import numpy as np\n",
    "from statsmodels.tsa.api import VAR\n",
    "import statsmodels.api as sm\n",
    "import matplotlib.pyplot as plt\n",
    "import matplotlib.dates as mdates\n",
    "from statsmodels.tsa.stattools import adfuller\n",
    "from statsmodels.tsa.ar_model import AutoReg\n",
    "from statsmodels.graphics.tsaplots import plot_acf, plot_pacf"
   ]
  },
  {
   "cell_type": "markdown",
   "metadata": {},
   "source": [
    "### Importing the relevant datasets"
   ]
  },
  {
   "cell_type": "code",
   "execution_count": 7,
   "metadata": {},
   "outputs": [],
   "source": [
    "money = pd.read_csv(\"M2SL.csv\")\n",
    "\n",
    "gdp = pd.read_csv(\"GDP.csv\")\n",
    "\n",
    "inflation = pd.read_csv(\"inflation.csv\")"
   ]
  },
  {
   "cell_type": "markdown",
   "metadata": {},
   "source": [
    "### Cleaning the datasets"
   ]
  },
  {
   "cell_type": "code",
   "execution_count": 9,
   "metadata": {},
   "outputs": [],
   "source": [
    "# Changing columns names\n",
    "\n",
    "money = money.rename(columns={\"DATE\": \"date\", \"M2SL\": \"M2\"}).copy()\n",
    "\n",
    "inflation = inflation.rename(columns={\"DATE\": \"date\", \"FPCPITOTLZGUSA\": \"inflation\"}).copy()\n",
    "\n",
    "gdp = gdp.rename(columns={\"DATE\": \"date\", \"GDP\": \"gdp\"}).copy()"
   ]
  },
  {
   "cell_type": "code",
   "execution_count": 10,
   "metadata": {},
   "outputs": [],
   "source": [
    "# Changing the date-column to datetime-format\n",
    "\n",
    "money[\"date\"] = pd.to_datetime(money[\"date\"]).copy()\n",
    "\n",
    "gdp[\"date\"] = pd.to_datetime(gdp[\"date\"]).copy()\n",
    "\n",
    "inflation[\"date\"] = pd.to_datetime(inflation[\"date\"]).copy()"
   ]
  },
  {
   "cell_type": "code",
   "execution_count": 11,
   "metadata": {},
   "outputs": [],
   "source": [
    "# Setting the date as index-column\n",
    "\n",
    "money = money.set_index(\"date\").copy()\n",
    "\n",
    "gdp = gdp.set_index(\"date\").copy()\n",
    "\n",
    "inflation = inflation.set_index(\"date\").copy()"
   ]
  },
  {
   "cell_type": "markdown",
   "metadata": {},
   "source": [
    "### Setting all datasets to the same frequency and time-span"
   ]
  },
  {
   "cell_type": "code",
   "execution_count": null,
   "metadata": {},
   "outputs": [],
   "source": []
  }
 ],
 "metadata": {
  "kernelspec": {
   "display_name": "Python 3",
   "language": "python",
   "name": "python3"
  },
  "language_info": {
   "codemirror_mode": {
    "name": "ipython",
    "version": 3
   },
   "file_extension": ".py",
   "mimetype": "text/x-python",
   "name": "python",
   "nbconvert_exporter": "python",
   "pygments_lexer": "ipython3",
   "version": "3.12.0"
  }
 },
 "nbformat": 4,
 "nbformat_minor": 2
}
